{
 "cells": [
  {
   "cell_type": "code",
   "execution_count": 2,
   "metadata": {},
   "outputs": [
    {
     "name": "stdout",
     "output_type": "stream",
     "text": [
      "Collecting pillow-avif-plugin\n",
      "  Downloading pillow_avif_plugin-1.5.1-cp311-cp311-win_amd64.whl.metadata (2.2 kB)\n",
      "Downloading pillow_avif_plugin-1.5.1-cp311-cp311-win_amd64.whl (11.1 MB)\n",
      "   ---------------------------------------- 0.0/11.1 MB ? eta -:--:--\n",
      "   ---------------------------------------- 0.0/11.1 MB 1.3 MB/s eta 0:00:09\n",
      "   - -------------------------------------- 0.3/11.1 MB 5.2 MB/s eta 0:00:03\n",
      "   --- ------------------------------------ 0.8/11.1 MB 7.5 MB/s eta 0:00:02\n",
      "   --- ------------------------------------ 1.0/11.1 MB 8.3 MB/s eta 0:00:02\n",
      "   ---- ----------------------------------- 1.1/11.1 MB 5.5 MB/s eta 0:00:02\n",
      "   ----- ---------------------------------- 1.7/11.1 MB 6.6 MB/s eta 0:00:02\n",
      "   ------- -------------------------------- 2.1/11.1 MB 7.0 MB/s eta 0:00:02\n",
      "   ------- -------------------------------- 2.1/11.1 MB 7.0 MB/s eta 0:00:02\n",
      "   ------- -------------------------------- 2.1/11.1 MB 7.0 MB/s eta 0:00:02\n",
      "   -------- ------------------------------- 2.4/11.1 MB 5.5 MB/s eta 0:00:02\n",
      "   ---------- ----------------------------- 3.0/11.1 MB 6.1 MB/s eta 0:00:02\n",
      "   ----------- ---------------------------- 3.1/11.1 MB 6.3 MB/s eta 0:00:02\n",
      "   ----------- ---------------------------- 3.1/11.1 MB 6.3 MB/s eta 0:00:02\n",
      "   ----------- ---------------------------- 3.1/11.1 MB 6.3 MB/s eta 0:00:02\n",
      "   ----------- ---------------------------- 3.1/11.1 MB 6.3 MB/s eta 0:00:02\n",
      "   ----------- ---------------------------- 3.1/11.1 MB 6.3 MB/s eta 0:00:02\n",
      "   ----------- ---------------------------- 3.2/11.1 MB 4.1 MB/s eta 0:00:02\n",
      "   ------------- -------------------------- 3.7/11.1 MB 4.6 MB/s eta 0:00:02\n",
      "   --------------- ------------------------ 4.2/11.1 MB 4.9 MB/s eta 0:00:02\n",
      "   --------------- ------------------------ 4.2/11.1 MB 4.9 MB/s eta 0:00:02\n",
      "   --------------- ------------------------ 4.2/11.1 MB 4.9 MB/s eta 0:00:02\n",
      "   --------------- ------------------------ 4.2/11.1 MB 4.9 MB/s eta 0:00:02\n",
      "   --------------- ------------------------ 4.3/11.1 MB 4.1 MB/s eta 0:00:02\n",
      "   ----------------- ---------------------- 4.8/11.1 MB 4.4 MB/s eta 0:00:02\n",
      "   ------------------ --------------------- 5.3/11.1 MB 4.6 MB/s eta 0:00:02\n",
      "   -------------------- ------------------- 5.8/11.1 MB 4.9 MB/s eta 0:00:02\n",
      "   ---------------------- ----------------- 6.3/11.1 MB 5.1 MB/s eta 0:00:01\n",
      "   ------------------------ --------------- 6.9/11.1 MB 5.4 MB/s eta 0:00:01\n",
      "   -------------------------- ------------- 7.4/11.1 MB 5.6 MB/s eta 0:00:01\n",
      "   ---------------------------- ----------- 8.0/11.1 MB 5.8 MB/s eta 0:00:01\n",
      "   ------------------------------ --------- 8.5/11.1 MB 6.0 MB/s eta 0:00:01\n",
      "   -------------------------------- ------- 9.1/11.1 MB 6.2 MB/s eta 0:00:01\n",
      "   ---------------------------------- ----- 9.6/11.1 MB 6.3 MB/s eta 0:00:01\n",
      "   ------------------------------------ --- 10.2/11.1 MB 6.4 MB/s eta 0:00:01\n",
      "   -------------------------------------- - 10.7/11.1 MB 6.6 MB/s eta 0:00:01\n",
      "   ---------------------------------------  11.1/11.1 MB 6.7 MB/s eta 0:00:01\n",
      "   ---------------------------------------  11.1/11.1 MB 6.7 MB/s eta 0:00:01\n",
      "   ---------------------------------------- 11.1/11.1 MB 6.3 MB/s eta 0:00:00\n",
      "Installing collected packages: pillow-avif-plugin\n",
      "Successfully installed pillow-avif-plugin-1.5.1\n",
      "Note: you may need to restart the kernel to use updated packages.\n"
     ]
    },
    {
     "name": "stderr",
     "output_type": "stream",
     "text": [
      "\n",
      "[notice] A new release of pip is available: 24.0 -> 25.0.1\n",
      "[notice] To update, run: C:\\Users\\Laura\\AppData\\Local\\Microsoft\\WindowsApps\\PythonSoftwareFoundation.Python.3.11_qbz5n2kfra8p0\\python.exe -m pip install --upgrade pip\n"
     ]
    }
   ],
   "source": [
    "pip install pillow-avif-plugin\n"
   ]
  },
  {
   "cell_type": "code",
   "execution_count": 6,
   "metadata": {},
   "outputs": [
    {
     "name": "stdout",
     "output_type": "stream",
     "text": [
      "Imagen guardada en: C:\\Users\\Laura\\Desktop\\img\\VM-Academy-Logo-gral.png\n"
     ]
    }
   ],
   "source": [
    "from PIL import Image\n",
    "import os\n",
    "import pillow_avif  # Importa el plugin para AVIF\n",
    "\n",
    "def convert_image(input_folder):\n",
    "    # Formato de salida\n",
    "    format = 'png'\n",
    "    \n",
    "    # Crear carpeta si no existe\n",
    "    os.makedirs(input_folder, exist_ok=True)\n",
    "    \n",
    "    # Buscar archivos en la carpeta\n",
    "    for file_name in os.listdir(input_folder):\n",
    "        input_path = os.path.join(input_folder, file_name)\n",
    "        \n",
    "        # Verificar si es una imagen\n",
    "        if os.path.isfile(input_path) and file_name.lower().endswith(('jpg', 'jpeg', 'bmp', 'tiff', 'gif', 'webp', 'avif')):\n",
    "            try:\n",
    "                img = Image.open(input_path)\n",
    "                base_name = os.path.splitext(file_name)[0]\n",
    "                output_path = os.path.join(input_folder, f\"{base_name}.{format}\")\n",
    "                img.save(output_path, format=format.upper())\n",
    "                print(f\"Imagen guardada en: {output_path}\")\n",
    "            except Exception as e:\n",
    "                print(f\"No se pudo convertir {file_name}: {e}\")\n",
    "\n",
    "# Ruta de la carpeta en el escritorio de Laura\n",
    "convert_image(r\"C:\\Users\\Laura\\Desktop\\img\")"
   ]
  }
 ],
 "metadata": {
  "kernelspec": {
   "display_name": "Python 3",
   "language": "python",
   "name": "python3"
  },
  "language_info": {
   "codemirror_mode": {
    "name": "ipython",
    "version": 3
   },
   "file_extension": ".py",
   "mimetype": "text/x-python",
   "name": "python",
   "nbconvert_exporter": "python",
   "pygments_lexer": "ipython3",
   "version": "3.11.9"
  }
 },
 "nbformat": 4,
 "nbformat_minor": 2
}
